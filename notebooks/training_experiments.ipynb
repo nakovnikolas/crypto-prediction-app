{
 "cells": [
  {
   "cell_type": "code",
   "execution_count": 11,
   "metadata": {},
   "outputs": [],
   "source": [
    "%reset -f"
   ]
  },
  {
   "cell_type": "markdown",
   "metadata": {},
   "source": [
    "# 0. Import dependencies and load data"
   ]
  },
  {
   "cell_type": "code",
   "execution_count": 1,
   "metadata": {},
   "outputs": [
    {
     "name": "stderr",
     "output_type": "stream",
     "text": [
      "Importing plotly failed. Interactive plots will not work.\n"
     ]
    }
   ],
   "source": [
    "from datetime import timedelta\n",
    "import os\n",
    "import sys\n",
    "import pandas as pd\n",
    "import pickle\n",
    "import matplotlib.pyplot as plt\n",
    "\n",
    "from sklearn.ensemble import RandomForestRegressor\n",
    "from sklearn.model_selection import RandomizedSearchCV, KFold\n",
    "\n",
    "from xgboost import XGBRegressor\n",
    "from prophet import Prophet\n",
    "\n",
    "sys.path.append(os.path.dirname(os.getcwd()))\n",
    "sys.path.append(os.path.join(os.path.dirname(os.getcwd()), \"src\"))"
   ]
  },
  {
   "cell_type": "code",
   "execution_count": 2,
   "metadata": {},
   "outputs": [],
   "source": [
    "from src.model_utility_functions import (\n",
    "    preprocess_data,\n",
    "    split_data,\n",
    "    evaluate_model,\n",
    "    cross_validation_scores,\n",
    "    prepare_prophet_data,\n",
    ")\n",
    "\n",
    "from src.lag_utility_functions import (\n",
    "    plot_acf_pacf,\n",
    "    evaluate_ar_model,\n",
    "    compare_lag_sets,\n",
    "    plot_predictions,\n",
    "    extract_lags,\n",
    ")\n",
    "\n",
    "from src.ma_utility_functions import (\n",
    "    evaluate_moving_average,\n",
    "    compare_moving_average_windows,\n",
    "    plot_moving_average_predictions,\n",
    "    extract_ma,\n",
    ")"
   ]
  },
  {
   "cell_type": "code",
   "execution_count": 3,
   "metadata": {},
   "outputs": [],
   "source": [
    "DATA_FOLDER_PATH = os.path.join(os.path.dirname(os.getcwd()), \"data\")\n",
    "BASE_FILE_NAME = \"_in_USD_historical_data.csv\""
   ]
  },
  {
   "cell_type": "code",
   "execution_count": 4,
   "metadata": {},
   "outputs": [],
   "source": [
    "btc = pd.read_csv(os.path.join(DATA_FOLDER_PATH, f\"BTC{BASE_FILE_NAME}\"))\n",
    "btc = preprocess_data(btc)\n",
    "eth = pd.read_csv(os.path.join(DATA_FOLDER_PATH, f\"ETH{BASE_FILE_NAME}\"))\n",
    "eth = preprocess_data(eth)\n",
    "ltc = pd.read_csv(os.path.join(DATA_FOLDER_PATH, f\"LTC{BASE_FILE_NAME}\"))\n",
    "ltc = preprocess_data(ltc)"
   ]
  },
  {
   "cell_type": "code",
   "execution_count": 5,
   "metadata": {},
   "outputs": [],
   "source": [
    "train, test = split_data(btc, test_size=0.2)"
   ]
  },
  {
   "cell_type": "markdown",
   "metadata": {},
   "source": [
    "# 1.1. Find best lags"
   ]
  },
  {
   "cell_type": "code",
   "execution_count": null,
   "metadata": {},
   "outputs": [],
   "source": [
    "plot_acf_pacf(btc, lags=20)"
   ]
  },
  {
   "cell_type": "markdown",
   "metadata": {},
   "source": [
    "based on the ACF and PACF results I choose the lags 1, 2, 7, 10"
   ]
  },
  {
   "cell_type": "code",
   "execution_count": 8,
   "metadata": {},
   "outputs": [],
   "source": [
    "lag_set = (1, 2, 7, 10)"
   ]
  },
  {
   "cell_type": "code",
   "execution_count": null,
   "metadata": {},
   "outputs": [],
   "source": [
    "predictions_dict = {}\n",
    "for lags in lag_set:\n",
    "    _, predictions = evaluate_ar_model(train, test, lags)\n",
    "    predictions_dict[lags] = predictions\n",
    "\n",
    "# Step 5: Plot the actual and predicted values using the predictions_dict\n",
    "plot_predictions(test, predictions_dict)"
   ]
  },
  {
   "cell_type": "code",
   "execution_count": null,
   "metadata": {},
   "outputs": [],
   "source": [
    "compare_lag_sets(btc, lag_set)"
   ]
  },
  {
   "cell_type": "markdown",
   "metadata": {},
   "source": [
    "based on the lag graph and the different MSE I will choose the lags 1, 7 and 10"
   ]
  },
  {
   "cell_type": "markdown",
   "metadata": {},
   "source": [
    "# 1.2. Choose  Moving Average windows"
   ]
  },
  {
   "cell_type": "code",
   "execution_count": null,
   "metadata": {},
   "outputs": [],
   "source": [
    "# artitrary chosen 5 window sizes\n",
    "window_sizes = [3, 5, 7, 10, 14]\n",
    "\n",
    "\n",
    "mse_results, predictions_dict = compare_moving_average_windows(btc, window_sizes)\n",
    "\n",
    "\n",
    "plot_moving_average_predictions(test, predictions_dict)\n",
    "\n",
    "\n",
    "print(\"Mean Squared Error for each window size:\")\n",
    "for window_size, mse in mse_results.items():\n",
    "    print(f\"Window Size {window_size}: MSE = {mse:.4f}\")"
   ]
  },
  {
   "cell_type": "markdown",
   "metadata": {},
   "source": [
    "based on the graph and the MSe I will choose 3, 5 and 7 window sizes"
   ]
  },
  {
   "cell_type": "markdown",
   "metadata": {},
   "source": [
    "# 2. Extract features"
   ]
  },
  {
   "cell_type": "code",
   "execution_count": 6,
   "metadata": {},
   "outputs": [],
   "source": [
    "# transform all three series into DataFrames\n",
    "btc = pd.DataFrame(btc)\n",
    "eth = pd.DataFrame(eth)\n",
    "ltc = pd.DataFrame(ltc)"
   ]
  },
  {
   "cell_type": "code",
   "execution_count": 7,
   "metadata": {},
   "outputs": [],
   "source": [
    "chosen_lags = [1, 7, 10]\n",
    "chosen_windows = [3, 5, 7]\n",
    "\n",
    "btc = extract_lags(btc, chosen_lags)\n",
    "eth = extract_lags(eth, chosen_lags)\n",
    "ltc = extract_lags(ltc, chosen_lags)\n",
    "\n",
    "btc = extract_ma(btc, chosen_windows)\n",
    "eth = extract_ma(eth, chosen_windows)\n",
    "ltc = extract_ma(ltc, chosen_windows)"
   ]
  },
  {
   "cell_type": "markdown",
   "metadata": {},
   "source": [
    "# 3. Prepare the train and test data"
   ]
  },
  {
   "cell_type": "code",
   "execution_count": 8,
   "metadata": {},
   "outputs": [],
   "source": [
    "btc[\"currency_id\"] = 0\n",
    "eth[\"currency_id\"] = 1\n",
    "ltc[\"currency_id\"] = 2\n",
    "\n",
    "combined_data = pd.concat([btc, eth, ltc])"
   ]
  },
  {
   "cell_type": "code",
   "execution_count": 9,
   "metadata": {},
   "outputs": [],
   "source": [
    "combined_data[\"y\"] = combined_data.groupby(\"currency_id\")[\"price\"].shift(-1)"
   ]
  },
  {
   "cell_type": "code",
   "execution_count": 10,
   "metadata": {},
   "outputs": [],
   "source": [
    "combined_data = combined_data.dropna()"
   ]
  },
  {
   "cell_type": "code",
   "execution_count": 11,
   "metadata": {},
   "outputs": [],
   "source": [
    "X = combined_data.drop(columns=[\"y\"])\n",
    "y = combined_data[\"y\"]\n",
    "\n",
    "train_size = int(len(combined_data) * 0.8)\n",
    "X_train, X_test = X[:train_size], X[train_size:]\n",
    "y_train, y_test = y[:train_size], y[train_size:]"
   ]
  },
  {
   "cell_type": "markdown",
   "metadata": {},
   "source": [
    "# 4. Model Comparison"
   ]
  },
  {
   "cell_type": "code",
   "execution_count": 13,
   "metadata": {},
   "outputs": [],
   "source": [
    "# Hyperparameter grid for Random Forest\n",
    "rf_param_grid = {\n",
    "    \"n_estimators\": [100, 200, 500],\n",
    "    \"max_depth\": [None, 10, 20, 30, 50],\n",
    "    \"min_samples_split\": [2, 5, 10],\n",
    "    \"min_samples_leaf\": [1, 2, 4],\n",
    "    \"bootstrap\": [True, False],\n",
    "}\n",
    "\n",
    "# Hyperparameter grid for XGBoost\n",
    "xgb_param_grid = {\n",
    "    \"n_estimators\": [100, 200, 500],\n",
    "    \"learning_rate\": [0.01, 0.05, 0.1, 0.2],\n",
    "    \"max_depth\": [3, 5, 7, 10],\n",
    "    \"subsample\": [0.6, 0.8, 1.0],\n",
    "    \"colsample_bytree\": [0.6, 0.8, 1.0],\n",
    "    \"gamma\": [0, 0.1, 0.2, 0.3],\n",
    "}"
   ]
  },
  {
   "cell_type": "code",
   "execution_count": null,
   "metadata": {},
   "outputs": [],
   "source": [
    "rf = RandomForestRegressor(random_state=42)\n",
    "rf_random = RandomizedSearchCV(\n",
    "    estimator=rf,\n",
    "    param_distributions=rf_param_grid,\n",
    "    n_iter=50,\n",
    "    cv=5,\n",
    "    verbose=2,\n",
    "    random_state=42,\n",
    "    n_jobs=-1,\n",
    ")\n",
    "rf_random.fit(X_train, y_train)\n",
    "print(f\"Best Random Forest Params: {rf_random.best_params_}\")"
   ]
  },
  {
   "cell_type": "code",
   "execution_count": null,
   "metadata": {},
   "outputs": [],
   "source": [
    "xgb = XGBRegressor(random_state=42)\n",
    "xgb_random = RandomizedSearchCV(\n",
    "    estimator=xgb,\n",
    "    param_distributions=xgb_param_grid,\n",
    "    n_iter=50,\n",
    "    cv=5,\n",
    "    verbose=2,\n",
    "    random_state=42,\n",
    "    n_jobs=-1,\n",
    ")\n",
    "xgb_random.fit(X_train, y_train)\n",
    "print(f\"Best XGBoost Params: {xgb_random.best_params_}\")"
   ]
  },
  {
   "cell_type": "code",
   "execution_count": 24,
   "metadata": {},
   "outputs": [],
   "source": [
    "prophet_df = combined_data[[\"price\"]].rename(columns={\"price\": \"y\"})\n",
    "prophet_df[\"ds\"] = combined_data.index[: len(prophet_df)]  # Using index as date\n",
    "prophet_df = prophet_df[[\"ds\", \"y\"]]"
   ]
  },
  {
   "cell_type": "code",
   "execution_count": null,
   "metadata": {},
   "outputs": [],
   "source": [
    "# prophet_df = prepare_prophet_data(combined_data)\n",
    "model = Prophet()\n",
    "model.fit(prophet_df)\n",
    "future = model.make_future_dataframe(periods=30)\n",
    "forecast = model.predict(future)\n",
    "prophet_predictions = forecast[\"yhat\"][-len(y_test) :].values"
   ]
  },
  {
   "cell_type": "code",
   "execution_count": null,
   "metadata": {},
   "outputs": [],
   "source": [
    "# evaluate RandomForest model\n",
    "rf_predictions = rf_random.best_estimator_.predict(X_test)\n",
    "evaluate_model(y_test.values, rf_predictions, \"Random Forest\")\n",
    "cross_validation_scores(rf_random.best_estimator_, X_train, y_train)"
   ]
  },
  {
   "cell_type": "code",
   "execution_count": null,
   "metadata": {},
   "outputs": [],
   "source": [
    "# evaluate XGBoost model\n",
    "xgb_predictions = xgb_random.best_estimator_.predict(X_test)\n",
    "evaluate_model(y_test.values, xgb_predictions, \"XGBoost\")\n",
    "cross_validation_scores(xgb_random.best_estimator_, X_train, y_train)"
   ]
  },
  {
   "cell_type": "code",
   "execution_count": null,
   "metadata": {},
   "outputs": [],
   "source": [
    "# evaluate Prophet model\n",
    "evaluate_model(y_test.values, prophet_predictions, \"Prophet\")"
   ]
  },
  {
   "cell_type": "markdown",
   "metadata": {},
   "source": [
    "It seems that the Random Forest is the best performing model"
   ]
  },
  {
   "cell_type": "markdown",
   "metadata": {},
   "source": [
    "# 5. Forecast"
   ]
  },
  {
   "cell_type": "code",
   "execution_count": 35,
   "metadata": {},
   "outputs": [],
   "source": [
    "# get the models directory\n",
    "root_dir = os.path.dirname(os.getcwd())\n",
    "models_dir = os.path.join(root_dir, \"models\")\n",
    "model_file_path = os.path.join(models_dir, \"rf_03.pkl\")"
   ]
  },
  {
   "cell_type": "code",
   "execution_count": 36,
   "metadata": {},
   "outputs": [],
   "source": [
    "# # save the model for future use\n",
    "# with open(model_file_path, \"wb\") as f:\n",
    "#     pickle.dump(rf_random.best_estimator_, f)"
   ]
  },
  {
   "cell_type": "code",
   "execution_count": 37,
   "metadata": {},
   "outputs": [],
   "source": [
    "# load the model\n",
    "model = pickle.load(open(model_file_path, \"rb\"))"
   ]
  },
  {
   "cell_type": "code",
   "execution_count": null,
   "metadata": {},
   "outputs": [],
   "source": [
    "predictions = []\n",
    "history = X[X[\"currency_id\"] == 0].copy()\n",
    "last_row = history.iloc[-1]\n",
    "pred = model.predict([last_row])[0]\n",
    "predictions.append(pred)\n",
    "tomorrow_date = last_row.name + timedelta(days=1)\n",
    "new_row = last_row.copy()\n",
    "new_row[\"price\"] = pred\n",
    "new_row.name = tomorrow_date\n",
    "history = pd.concat([history, new_row.to_frame().T])\n",
    "history"
   ]
  },
  {
   "cell_type": "markdown",
   "metadata": {},
   "source": [
    "### Test the forecast method"
   ]
  },
  {
   "cell_type": "code",
   "execution_count": 12,
   "metadata": {},
   "outputs": [],
   "source": [
    "from src.crypto_forecast_model import CryptoForecastModel"
   ]
  },
  {
   "cell_type": "code",
   "execution_count": 13,
   "metadata": {},
   "outputs": [],
   "source": [
    "cfm = CryptoForecastModel()\n",
    "cfm.read_model()\n",
    "cfm.forecast(X, \"BTC\")"
   ]
  },
  {
   "cell_type": "code",
   "execution_count": null,
   "metadata": {},
   "outputs": [],
   "source": []
  }
 ],
 "metadata": {
  "kernelspec": {
   "display_name": ".venv",
   "language": "python",
   "name": "python3"
  },
  "language_info": {
   "codemirror_mode": {
    "name": "ipython",
    "version": 3
   },
   "file_extension": ".py",
   "mimetype": "text/x-python",
   "name": "python",
   "nbconvert_exporter": "python",
   "pygments_lexer": "ipython3",
   "version": "3.12.7"
  }
 },
 "nbformat": 4,
 "nbformat_minor": 2
}
