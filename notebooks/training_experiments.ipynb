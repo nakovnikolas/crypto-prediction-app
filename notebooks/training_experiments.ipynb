{
 "cells": [
  {
   "cell_type": "markdown",
   "metadata": {},
   "source": [
    "# 0. Import dependencies and load data"
   ]
  },
  {
   "cell_type": "code",
   "execution_count": 5,
   "metadata": {},
   "outputs": [],
   "source": [
    "import os\n",
    "import sys\n",
    "import pandas as pd\n",
    "\n",
    "sys.path.append(os.path.dirname(os.getcwd()))"
   ]
  },
  {
   "cell_type": "code",
   "execution_count": 20,
   "metadata": {},
   "outputs": [
    {
     "ename": "ImportError",
     "evalue": "cannot import name 'extract_features' from 'src.model_utils' (/home/nikolas/projects/crypto-prediction-app/src/model_utils.py)",
     "output_type": "error",
     "traceback": [
      "\u001b[0;31m---------------------------------------------------------------------------\u001b[0m",
      "\u001b[0;31mImportError\u001b[0m                               Traceback (most recent call last)",
      "Cell \u001b[0;32mIn[20], line 1\u001b[0m\n\u001b[0;32m----> 1\u001b[0m \u001b[38;5;28;01mfrom\u001b[39;00m \u001b[38;5;21;01msrc\u001b[39;00m\u001b[38;5;21;01m.\u001b[39;00m\u001b[38;5;21;01mmodel_utils\u001b[39;00m \u001b[38;5;28;01mimport\u001b[39;00m preprocess_data, extract_features\n",
      "\u001b[0;31mImportError\u001b[0m: cannot import name 'extract_features' from 'src.model_utils' (/home/nikolas/projects/crypto-prediction-app/src/model_utils.py)"
     ]
    }
   ],
   "source": [
    "from src.model_utils import preprocess_data, extract_features\n"
   ]
  },
  {
   "cell_type": "code",
   "execution_count": 7,
   "metadata": {},
   "outputs": [],
   "source": [
    "DATA_FOLDER_PATH = os.path.join(os.path.dirname(os.getcwd()), \"data\")\n",
    "BASE_FILE_NAME = \"_in_USD_historical_data.csv\""
   ]
  },
  {
   "cell_type": "code",
   "execution_count": 17,
   "metadata": {},
   "outputs": [],
   "source": [
    "btc = pd.read_csv(os.path.join(DATA_FOLDER_PATH, f\"BTC{BASE_FILE_NAME}\"))\n",
    "btc = preprocess_data(btc)\n",
    "eth = pd.read_csv(os.path.join(DATA_FOLDER_PATH, f\"ETH{BASE_FILE_NAME}\"))\n",
    "eth = preprocess_data(eth)\n",
    "ltc = pd.read_csv(os.path.join(DATA_FOLDER_PATH, f\"LTC{BASE_FILE_NAME}\"))\n",
    "ltc = preprocess_data(ltc)"
   ]
  },
  {
   "cell_type": "code",
   "execution_count": 19,
   "metadata": {},
   "outputs": [
    {
     "ename": "NameError",
     "evalue": "name 'extract_features' is not defined",
     "output_type": "error",
     "traceback": [
      "\u001b[0;31m---------------------------------------------------------------------------\u001b[0m",
      "\u001b[0;31mNameError\u001b[0m                                 Traceback (most recent call last)",
      "Cell \u001b[0;32mIn[19], line 1\u001b[0m\n\u001b[0;32m----> 1\u001b[0m btc \u001b[38;5;241m=\u001b[39m \u001b[43mextract_features\u001b[49m(btc)\n\u001b[1;32m      2\u001b[0m eth \u001b[38;5;241m=\u001b[39m extract_features(eth)\n\u001b[1;32m      3\u001b[0m ltc \u001b[38;5;241m=\u001b[39m extract_features(ltc)\n",
      "\u001b[0;31mNameError\u001b[0m: name 'extract_features' is not defined"
     ]
    }
   ],
   "source": [
    "btc = extract_features(btc)\n",
    "eth = extract_features(eth)\n",
    "ltc = extract_features(ltc)"
   ]
  }
 ],
 "metadata": {
  "kernelspec": {
   "display_name": ".venv",
   "language": "python",
   "name": "python3"
  },
  "language_info": {
   "codemirror_mode": {
    "name": "ipython",
    "version": 3
   },
   "file_extension": ".py",
   "mimetype": "text/x-python",
   "name": "python",
   "nbconvert_exporter": "python",
   "pygments_lexer": "ipython3",
   "version": "3.12.7"
  }
 },
 "nbformat": 4,
 "nbformat_minor": 2
}
