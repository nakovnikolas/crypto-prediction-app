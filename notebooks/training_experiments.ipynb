{
 "cells": [
  {
   "cell_type": "markdown",
   "metadata": {},
   "source": [
    "# 0. Import dependencies and load data"
   ]
  },
  {
   "cell_type": "code",
   "execution_count": 5,
   "metadata": {},
   "outputs": [],
   "source": [
    "import os\n",
    "import sys\n",
    "import pandas as pd\n",
    "\n",
    "sys.path.append(os.path.dirname(os.getcwd()))"
   ]
  },
  {
   "cell_type": "code",
   "execution_count": 6,
   "metadata": {},
   "outputs": [],
   "source": [
    "from src.model_utils import preprocess_data, extract_features\n"
   ]
  },
  {
   "cell_type": "code",
   "execution_count": 7,
   "metadata": {},
   "outputs": [],
   "source": [
    "DATA_FOLDER_PATH = os.path.join(os.path.dirname(os.getcwd()), \"data\")\n",
    "BASE_FILE_NAME = \"_in_USD_historical_data.csv\""
   ]
  },
  {
   "cell_type": "code",
   "execution_count": 17,
   "metadata": {},
   "outputs": [],
   "source": [
    "btc = pd.read_csv(os.path.join(DATA_FOLDER_PATH, f\"BTC{BASE_FILE_NAME}\"))\n",
    "btc = preprocess_data(btc)\n",
    "eth = pd.read_csv(os.path.join(DATA_FOLDER_PATH, f\"ETH{BASE_FILE_NAME}\"))\n",
    "eth = preprocess_data(eth)\n",
    "ltc = pd.read_csv(os.path.join(DATA_FOLDER_PATH, f\"LTC{BASE_FILE_NAME}\"))\n",
    "ltc = preprocess_data(ltc)"
   ]
  },
  {
   "cell_type": "code",
   "execution_count": null,
   "metadata": {},
   "outputs": [],
   "source": [
    "btc = "
   ]
  }
 ],
 "metadata": {
  "kernelspec": {
   "display_name": ".venv",
   "language": "python",
   "name": "python3"
  },
  "language_info": {
   "codemirror_mode": {
    "name": "ipython",
    "version": 3
   },
   "file_extension": ".py",
   "mimetype": "text/x-python",
   "name": "python",
   "nbconvert_exporter": "python",
   "pygments_lexer": "ipython3",
   "version": "3.12.7"
  }
 },
 "nbformat": 4,
 "nbformat_minor": 2
}
